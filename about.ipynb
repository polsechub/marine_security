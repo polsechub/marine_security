{
  "cells": [
    {
      "cell_type": "raw",
      "metadata": {},
      "source": [
        "---\n",
        "title: \"About\"\n",
        "image: profile.jpg\n",
        "about:\n",
        "  template: jolla\n",
        "  links:\n",
        "    - icon: twitter\n",
        "      text: Twitter\n",
        "      href: https://twitter.com\n",
        "    - icon: linkedin\n",
        "      text: LinkedIn\n",
        "      href: https://linkedin.com\n",
        "    # - icon: github\n",
        "    #   text: Github\n",
        "    #   href: https://github.com\n",
        "---"
      ],
      "id": "ece0fb4d"
    },
    {
      "cell_type": "markdown",
      "metadata": {},
      "source": [
        "Marine Security is a collection of blogposts dedicated to providing objective synopsis of maritime security issues, based on interesting and policy-relevant academic research, but tailored for general audiences. Comments are welcome!\n",
        "\n",
        "\n",
        "```{css echo=FALSE}\n",
        ".column {\n",
        "text-align: left;\n",
        "}\n",
        "```\n",
        "\n",
        "\n",
        "## Contributors\n",
        "This platform is also open to anyone who wishes to showcase their research work in the area of maritime security. The post should be written for general audience, in a clear and concise way, and not exceeding 1000 words. Please email your submission to any of the following organizers. \n",
        "\n",
        "\n",
        "Anup Phayal\n",
        "Associate Professor\n",
        "Public and International Affairs\n",
        "University of North Carolina, Wilmington\n",
        "\n",
        "Jeremy Dean\n",
        "Graduate Student\n",
        "Conflict Management & Resolution\n",
        "University of North Carolina, Wilmington\n"
      ],
      "id": "a20cf85f"
    }
  ],
  "metadata": {
    "kernelspec": {
      "display_name": "Python 3",
      "language": "python",
      "name": "python3"
    }
  },
  "nbformat": 4,
  "nbformat_minor": 5
}